{
 "cells": [
  {
   "cell_type": "code",
   "execution_count": 165,
   "metadata": {},
   "outputs": [],
   "source": [
    "import pandas as pd\n",
    "import numpy as np\n",
    "from PyFin.api import *\n",
    "import pickle\n",
    "import itertools\n",
    "import sys\n",
    "sys.path.append('../..')\n",
    "from ultron.factor.genetic.genetic_factors import GeneticFactors\n",
    "from ultron.factor.combine.combine_engine import CombineEngine"
   ]
  },
  {
   "cell_type": "code",
   "execution_count": 166,
   "metadata": {},
   "outputs": [],
   "source": [
    "def sigmoid(x):\n",
    "    s = 1 / (1 + np.exp(-x))\n",
    "    return s\n",
    "\n",
    "def tanh(x):\n",
    "    s1 = np.exp(x) - np.exp(-x)\n",
    "    s2 = np.exp(x) + np.exp(-x)\n",
    "    s = s1 / s2\n",
    "    return s\n",
    "\n",
    "def relu(x):\n",
    "    s = np.where(x < 0, 0, x)\n",
    "    return s"
   ]
  },
  {
   "cell_type": "code",
   "execution_count": 167,
   "metadata": {},
   "outputs": [],
   "source": [
    "##构造5个算子\n",
    "accumulators = {2:np.log,3:np.sqrt,4:np.fabs,5:tanh, 6:sigmoid}"
   ]
  },
  {
   "cell_type": "code",
   "execution_count": 168,
   "metadata": {},
   "outputs": [],
   "source": [
    "with open('factor_data.pkl','rb') as file2:\n",
    "    total_data = pickle.load(file2)"
   ]
  },
  {
   "cell_type": "code",
   "execution_count": 169,
   "metadata": {},
   "outputs": [],
   "source": [
    "factor_columns = [i for i in list(set(total_data.columns)) if i not in ['trade_date','code','ret']]"
   ]
  },
  {
   "cell_type": "code",
   "execution_count": 170,
   "metadata": {},
   "outputs": [],
   "source": [
    "point = int(np.random.uniform(0, len(factor_columns))/2)\n",
    "ori_field = factor_columns[:point]\n",
    "add_field = factor_columns[point:]\n",
    "evalue_cols = np.array(ori_field + add_field)"
   ]
  },
  {
   "cell_type": "code",
   "execution_count": 171,
   "metadata": {},
   "outputs": [],
   "source": [
    "_del_prob = 0.2\n",
    "_add_prob = 0.2\n",
    "_change_prob = 0.9"
   ]
  },
  {
   "cell_type": "code",
   "execution_count": 172,
   "metadata": {},
   "outputs": [],
   "source": [
    "def ga_generate_ori(ori_field, add_field):\n",
    "    ori_list = (np.random.uniform(0, 1, (1, len(ori_field))) < _del_prob).tolist()[0]\n",
    "    add_list = (np.random.uniform(0, 1, (1, len(add_field))) < _add_prob).tolist()[0]\n",
    "    new_list = ori_list + add_list\n",
    "    new_list = [1 if i> 0 else 0 for i in new_list]\n",
    "    return np.array(new_list)"
   ]
  },
  {
   "cell_type": "code",
   "execution_count": 173,
   "metadata": {},
   "outputs": [],
   "source": [
    "ori_group = {i:ga_generate_ori(ori_field, add_field) for i in range(5)}"
   ]
  },
  {
   "cell_type": "code",
   "execution_count": 174,
   "metadata": {},
   "outputs": [],
   "source": [
    "new_dict = ori_group.copy()\n",
    "score = 1.0 / len(ori_group)\n",
    "dict_score = {k:score for k in ori_group.keys()}\n",
    "g, p = np.array([[k, v] for k, v in dict_score.items()]).T\n",
    "flag = max(ori_group.keys())"
   ]
  },
  {
   "cell_type": "code",
   "execution_count": 175,
   "metadata": {},
   "outputs": [
    {
     "name": "stdout",
     "output_type": "stream",
     "text": [
      "0.16653514598973573 0.9\n"
     ]
    }
   ],
   "source": [
    "cross_group = np.random.choice(g, size = int(len(g)/2), p = p, replace= False)\n",
    "for (fa,mo) in itertools.combinations(cross_group, 2):\n",
    "    flag += 1\n",
    "    fa_code, mo_code = ori_group[fa], ori_group[mo]\n",
    "    cut_point = np.random.randint(1, len(fa_code)-1)\n",
    "    fa_code0, fa_code1 = fa_code[:cut_point], fa_code[cut_point:]\n",
    "    mo_code0, mo_code1 = mo_code[:cut_point], mo_code[cut_point:]\n",
    "    new1 = np.hstack([fa_code0, mo_code1])\n",
    "    prob = np.random.uniform(0, 1)\n",
    "    print(prob,_change_prob)\n",
    "    if prob < _change_prob:\n",
    "        change_point = np.random.randint(0, len(fa_code))\n",
    "        ## 改变该点的值\n",
    "        new1[change_point] = not new1[change_point] \n",
    "        new1 = [int(np.random.uniform(0, len(accumulators) + 2)) if i> 0 else 0 for i in new1] #所有的显性特征进行随机变异\n",
    "    new_dict[flag] = np.array(new1)"
   ]
  },
  {
   "cell_type": "code",
   "execution_count": 176,
   "metadata": {},
   "outputs": [
    {
     "data": {
      "text/plain": [
       "array(['alpha_151', 'alpha_108', 'alpha_137', 'alpha_23', 'alpha_167',\n",
       "       'alpha_181', 'alpha_54', 'alpha_107', 'alpha_28', 'alpha_123',\n",
       "       'alpha_126', 'alpha_34', 'alpha_152', 'alpha_66', 'alpha_124',\n",
       "       'alpha_78', 'alpha_180', 'alpha_14', 'alpha_58', 'alpha_79',\n",
       "       'alpha_80', 'alpha_187', 'alpha_13', 'alpha_104', 'alpha_117',\n",
       "       'alpha_147', 'alpha_27', 'alpha_98', 'alpha_125', 'alpha_67',\n",
       "       'alpha_110', 'alpha_166', 'alpha_179', 'alpha_19', 'alpha_100',\n",
       "       'alpha_12', 'alpha_143', 'alpha_111'], dtype='<U21')"
      ]
     },
     "execution_count": 176,
     "metadata": {},
     "output_type": "execute_result"
    }
   ],
   "source": [
    "tp = [True if i> 0 else False for i in new_dict[5]] \n",
    "evalue_cols[tp]"
   ]
  },
  {
   "cell_type": "code",
   "execution_count": 177,
   "metadata": {
    "scrolled": true
   },
   "outputs": [],
   "source": [
    "def calc_evalue_group(t_group, evalue_cols, total_data):\n",
    "    index = 0\n",
    "    res = {}\n",
    "    cols = []\n",
    "    for i in t_group:\n",
    "        if i > 0:\n",
    "            factor_name = evalue_cols[index]\n",
    "            factor_data = total_data[factor_name].copy()\n",
    "            if i > 1:\n",
    "                func = accumulators[i]\n",
    "                factor_data = func(factor_data)\n",
    "            res[factor_name + 'c_' + str(i)] = factor_data.fillna(0).values\n",
    "            cols.append(factor_name + 'c_' + str(i))\n",
    "        index += 1\n",
    "    #factor_data = pd.DataFrame(res)\n",
    "    #cols = factor_data.columns\n",
    "    return cols, res\n",
    "    ## 个体评分\n",
    "    #factor_data[cols].mean(axis=1).values"
   ]
  },
  {
   "cell_type": "code",
   "execution_count": 178,
   "metadata": {},
   "outputs": [],
   "source": [
    "def calc_ic(factor_df, return_df, factor_list, return_col_name='target_return', ic_type='spearman'):\n",
    "    \"\"\"\n",
    "    计算因子IC值, 本月和下月因子值的秩相关\n",
    "    params:\n",
    "            factor_df: DataFrame, columns=['ticker', 'tradeDate', factor_list]\n",
    "            return_df: DataFrame, colunms=['ticker, 'tradeDate'， return_col_name], 预先计算好的未来的收益率\n",
    "            factor_list:　list， 需要计算IC的因子名list\n",
    "            return_col_name: str, return_df中的收益率列名\n",
    "            method: : {'spearman', 'pearson'}, 默认'spearman', 指定计算rank IC('spearman')或者Normal IC('pearson')\n",
    "    return:\n",
    "            DataFrame, 返回各因子的IC序列， 列为: ['tradeDate', factor_list]\n",
    "    \"\"\"\n",
    "    merge_df = factor_df.merge(return_df, on=['code', 'trade_date'])\n",
    "    # 遍历每个因子，计算对应的IC\n",
    "    factor_ic_list = []\n",
    "    for factor_name in factor_list:\n",
    "        tmp_factor_ic = merge_df.groupby(['trade_date']).apply(\n",
    "            lambda x: x[[factor_name, return_col_name]].corr(method=ic_type).values[0, 1])\n",
    "        tmp_factor_ic.name = factor_name\n",
    "        factor_ic_list.append(tmp_factor_ic)\n",
    "    factor_ic_frame = pd.concat(factor_ic_list, axis=1)\n",
    "    factor_ic_frame.reset_index(inplace=True)\n",
    "    return factor_ic_frame"
   ]
  },
  {
   "cell_type": "code",
   "execution_count": 179,
   "metadata": {},
   "outputs": [],
   "source": [
    "def equal_combine(factor_df, factor_list, ):\n",
    "    \"\"\"\n",
    "    等权法合成因子\n",
    "    参数:\n",
    "        factor_df: DataFrame, 待合成因子值\n",
    "        factor_list: list, 待合成因子列表\n",
    "    返回:\n",
    "        DataFrame, 复合因子\n",
    "    \"\"\"\n",
    "    factor_df = factor_df.copy()\n",
    "    factor_df['conmbine'] = factor_df[factor_list].mean(axis=1).values\n",
    "    return np.corrcoef(factor_df['conmbine'].fillna(0).values, factor_df['ret'].fillna(0).values)[0,1]"
   ]
  },
  {
   "cell_type": "code",
   "execution_count": 180,
   "metadata": {},
   "outputs": [
    {
     "name": "stderr",
     "output_type": "stream",
     "text": [
      "/home/kerry/work/workenv/alpha_mind/lib/python3.6/site-packages/ipykernel_launcher.py:11: RuntimeWarning: invalid value encountered in sqrt\n",
      "  # This is added back by InteractiveShellApp.init_path()\n",
      "/home/kerry/work/workenv/alpha_mind/lib/python3.6/site-packages/ipykernel_launcher.py:11: RuntimeWarning: divide by zero encountered in log\n",
      "  # This is added back by InteractiveShellApp.init_path()\n",
      "/home/kerry/work/workenv/alpha_mind/lib/python3.6/site-packages/ipykernel_launcher.py:11: RuntimeWarning: invalid value encountered in log\n",
      "  # This is added back by InteractiveShellApp.init_path()\n",
      "/home/kerry/work/workenv/alpha_mind/lib/python3.6/site-packages/ipykernel_launcher.py:6: RuntimeWarning: overflow encountered in exp\n",
      "  \n",
      "/home/kerry/work/workenv/alpha_mind/lib/python3.6/site-packages/ipykernel_launcher.py:7: RuntimeWarning: overflow encountered in exp\n",
      "  import sys\n"
     ]
    }
   ],
   "source": [
    "tres = {} # # 新种群有变异后的特征也有父类特征\n",
    "score_dict = {}\n",
    "cols_dict = {}\n",
    "for g, code in new_dict.items():\n",
    "    cols, res = calc_evalue_group(new_dict[g], evalue_cols, total_data)\n",
    "    ##特征评分\n",
    "    score = equal_combine(pd.concat([pd.DataFrame(res),total_data[['code','trade_date','ret']]],axis=1), cols, )\n",
    "    score_dict[g] = score\n",
    "    cols_dict[g] = cols\n",
    "    tres = dict(tres, **res)"
   ]
  },
  {
   "cell_type": "code",
   "execution_count": 108,
   "metadata": {},
   "outputs": [
    {
     "name": "stderr",
     "output_type": "stream",
     "text": [
      "/home/kerry/work/workenv/alpha_mind/lib/python3.6/site-packages/ipykernel_launcher.py:10: RuntimeWarning: divide by zero encountered in log\n",
      "  # Remove the CWD from sys.path while we load stuff.\n",
      "/home/kerry/work/workenv/alpha_mind/lib/python3.6/site-packages/ipykernel_launcher.py:10: RuntimeWarning: invalid value encountered in log\n",
      "  # Remove the CWD from sys.path while we load stuff.\n",
      "/home/kerry/work/workenv/alpha_mind/lib/python3.6/site-packages/ipykernel_launcher.py:2: RuntimeWarning: overflow encountered in exp\n",
      "  \n",
      "/home/kerry/work/workenv/alpha_mind/lib/python3.6/site-packages/ipykernel_launcher.py:10: RuntimeWarning: invalid value encountered in sqrt\n",
      "  # Remove the CWD from sys.path while we load stuff.\n"
     ]
    }
   ],
   "source": [
    "index = 0\n",
    "res = {}\n",
    "cols = []\n",
    "for i in new_dict[5]:\n",
    "    if i > 0:\n",
    "        factor_name = evalue_cols[index]\n",
    "        factor_data = total_data[factor_name].copy()\n",
    "        if i > 1:\n",
    "            func = accumulators[i]\n",
    "            factor_data = func(factor_data)\n",
    "        res[factor_name + 'c_' + str(i)] = factor_data.fillna(0).values\n",
    "        cols.append(factor_name + 'c_' + str(i))\n",
    "    index += 1"
   ]
  },
  {
   "cell_type": "code",
   "execution_count": 186,
   "metadata": {},
   "outputs": [],
   "source": [
    "new_list = [True if i>0 else False for i in new_dict[5]]\n",
    "sub_data = total_data[evalue_cols[new_list]].T"
   ]
  },
  {
   "cell_type": "code",
   "execution_count": 187,
   "metadata": {},
   "outputs": [
    {
     "data": {
      "text/plain": [
       "array([1, 6, 4, 4, 6, 1, 6, 3, 2, 2, 6, 4, 4, 1, 4, 5, 2, 1, 3, 1, 4, 2,\n",
       "       6, 6, 5, 6, 5, 6, 3, 2, 5, 3, 4, 3, 6, 3, 5, 2])"
      ]
     },
     "execution_count": 187,
     "metadata": {},
     "output_type": "execute_result"
    }
   ],
   "source": [
    "s = new_dict[5][new_dict[5] > 0]\n",
    "s"
   ]
  },
  {
   "cell_type": "code",
   "execution_count": 188,
   "metadata": {},
   "outputs": [
    {
     "data": {
      "text/plain": [
       "array(['alpha_151', 'alpha_108', 'alpha_137', 'alpha_23', 'alpha_167',\n",
       "       'alpha_181', 'alpha_54', 'alpha_107', 'alpha_28', 'alpha_123',\n",
       "       'alpha_126', 'alpha_34', 'alpha_152', 'alpha_66', 'alpha_124',\n",
       "       'alpha_78', 'alpha_180', 'alpha_14', 'alpha_58', 'alpha_79',\n",
       "       'alpha_80', 'alpha_187', 'alpha_13', 'alpha_104', 'alpha_117',\n",
       "       'alpha_147', 'alpha_27', 'alpha_98', 'alpha_125', 'alpha_67',\n",
       "       'alpha_110', 'alpha_166', 'alpha_179', 'alpha_19', 'alpha_100',\n",
       "       'alpha_12', 'alpha_143', 'alpha_111'], dtype='<U21')"
      ]
     },
     "execution_count": 188,
     "metadata": {},
     "output_type": "execute_result"
    }
   ],
   "source": [
    "t = evalue_cols[new_list]\n",
    "t"
   ]
  },
  {
   "cell_type": "code",
   "execution_count": 190,
   "metadata": {},
   "outputs": [
    {
     "data": {
      "text/html": [
       "<div>\n",
       "<style scoped>\n",
       "    .dataframe tbody tr th:only-of-type {\n",
       "        vertical-align: middle;\n",
       "    }\n",
       "\n",
       "    .dataframe tbody tr th {\n",
       "        vertical-align: top;\n",
       "    }\n",
       "\n",
       "    .dataframe thead th {\n",
       "        text-align: right;\n",
       "    }\n",
       "</style>\n",
       "<table border=\"1\" class=\"dataframe\">\n",
       "  <thead>\n",
       "    <tr style=\"text-align: right;\">\n",
       "      <th></th>\n",
       "      <th>acc</th>\n",
       "    </tr>\n",
       "    <tr>\n",
       "      <th>factor</th>\n",
       "      <th></th>\n",
       "    </tr>\n",
       "  </thead>\n",
       "  <tbody>\n",
       "    <tr>\n",
       "      <th>alpha_151</th>\n",
       "      <td>1</td>\n",
       "    </tr>\n",
       "    <tr>\n",
       "      <th>alpha_108</th>\n",
       "      <td>6</td>\n",
       "    </tr>\n",
       "    <tr>\n",
       "      <th>alpha_137</th>\n",
       "      <td>4</td>\n",
       "    </tr>\n",
       "    <tr>\n",
       "      <th>alpha_23</th>\n",
       "      <td>4</td>\n",
       "    </tr>\n",
       "    <tr>\n",
       "      <th>alpha_167</th>\n",
       "      <td>6</td>\n",
       "    </tr>\n",
       "    <tr>\n",
       "      <th>alpha_181</th>\n",
       "      <td>1</td>\n",
       "    </tr>\n",
       "    <tr>\n",
       "      <th>alpha_54</th>\n",
       "      <td>6</td>\n",
       "    </tr>\n",
       "    <tr>\n",
       "      <th>alpha_107</th>\n",
       "      <td>3</td>\n",
       "    </tr>\n",
       "    <tr>\n",
       "      <th>alpha_28</th>\n",
       "      <td>2</td>\n",
       "    </tr>\n",
       "    <tr>\n",
       "      <th>alpha_123</th>\n",
       "      <td>2</td>\n",
       "    </tr>\n",
       "    <tr>\n",
       "      <th>alpha_126</th>\n",
       "      <td>6</td>\n",
       "    </tr>\n",
       "    <tr>\n",
       "      <th>alpha_34</th>\n",
       "      <td>4</td>\n",
       "    </tr>\n",
       "    <tr>\n",
       "      <th>alpha_152</th>\n",
       "      <td>4</td>\n",
       "    </tr>\n",
       "    <tr>\n",
       "      <th>alpha_66</th>\n",
       "      <td>1</td>\n",
       "    </tr>\n",
       "    <tr>\n",
       "      <th>alpha_124</th>\n",
       "      <td>4</td>\n",
       "    </tr>\n",
       "    <tr>\n",
       "      <th>alpha_78</th>\n",
       "      <td>5</td>\n",
       "    </tr>\n",
       "    <tr>\n",
       "      <th>alpha_180</th>\n",
       "      <td>2</td>\n",
       "    </tr>\n",
       "    <tr>\n",
       "      <th>alpha_14</th>\n",
       "      <td>1</td>\n",
       "    </tr>\n",
       "    <tr>\n",
       "      <th>alpha_58</th>\n",
       "      <td>3</td>\n",
       "    </tr>\n",
       "    <tr>\n",
       "      <th>alpha_79</th>\n",
       "      <td>1</td>\n",
       "    </tr>\n",
       "    <tr>\n",
       "      <th>alpha_80</th>\n",
       "      <td>4</td>\n",
       "    </tr>\n",
       "    <tr>\n",
       "      <th>alpha_187</th>\n",
       "      <td>2</td>\n",
       "    </tr>\n",
       "    <tr>\n",
       "      <th>alpha_13</th>\n",
       "      <td>6</td>\n",
       "    </tr>\n",
       "    <tr>\n",
       "      <th>alpha_104</th>\n",
       "      <td>6</td>\n",
       "    </tr>\n",
       "    <tr>\n",
       "      <th>alpha_117</th>\n",
       "      <td>5</td>\n",
       "    </tr>\n",
       "    <tr>\n",
       "      <th>alpha_147</th>\n",
       "      <td>6</td>\n",
       "    </tr>\n",
       "    <tr>\n",
       "      <th>alpha_27</th>\n",
       "      <td>5</td>\n",
       "    </tr>\n",
       "    <tr>\n",
       "      <th>alpha_98</th>\n",
       "      <td>6</td>\n",
       "    </tr>\n",
       "    <tr>\n",
       "      <th>alpha_125</th>\n",
       "      <td>3</td>\n",
       "    </tr>\n",
       "    <tr>\n",
       "      <th>alpha_67</th>\n",
       "      <td>2</td>\n",
       "    </tr>\n",
       "    <tr>\n",
       "      <th>alpha_110</th>\n",
       "      <td>5</td>\n",
       "    </tr>\n",
       "    <tr>\n",
       "      <th>alpha_166</th>\n",
       "      <td>3</td>\n",
       "    </tr>\n",
       "    <tr>\n",
       "      <th>alpha_179</th>\n",
       "      <td>4</td>\n",
       "    </tr>\n",
       "    <tr>\n",
       "      <th>alpha_19</th>\n",
       "      <td>3</td>\n",
       "    </tr>\n",
       "    <tr>\n",
       "      <th>alpha_100</th>\n",
       "      <td>6</td>\n",
       "    </tr>\n",
       "    <tr>\n",
       "      <th>alpha_12</th>\n",
       "      <td>3</td>\n",
       "    </tr>\n",
       "    <tr>\n",
       "      <th>alpha_143</th>\n",
       "      <td>5</td>\n",
       "    </tr>\n",
       "    <tr>\n",
       "      <th>alpha_111</th>\n",
       "      <td>2</td>\n",
       "    </tr>\n",
       "  </tbody>\n",
       "</table>\n",
       "</div>"
      ],
      "text/plain": [
       "          acc\n",
       "factor       \n",
       "alpha_151   1\n",
       "alpha_108   6\n",
       "alpha_137   4\n",
       "alpha_23    4\n",
       "alpha_167   6\n",
       "alpha_181   1\n",
       "alpha_54    6\n",
       "alpha_107   3\n",
       "alpha_28    2\n",
       "alpha_123   2\n",
       "alpha_126   6\n",
       "alpha_34    4\n",
       "alpha_152   4\n",
       "alpha_66    1\n",
       "alpha_124   4\n",
       "alpha_78    5\n",
       "alpha_180   2\n",
       "alpha_14    1\n",
       "alpha_58    3\n",
       "alpha_79    1\n",
       "alpha_80    4\n",
       "alpha_187   2\n",
       "alpha_13    6\n",
       "alpha_104   6\n",
       "alpha_117   5\n",
       "alpha_147   6\n",
       "alpha_27    5\n",
       "alpha_98    6\n",
       "alpha_125   3\n",
       "alpha_67    2\n",
       "alpha_110   5\n",
       "alpha_166   3\n",
       "alpha_179   4\n",
       "alpha_19    3\n",
       "alpha_100   6\n",
       "alpha_12    3\n",
       "alpha_143   5\n",
       "alpha_111   2"
      ]
     },
     "execution_count": 190,
     "metadata": {},
     "output_type": "execute_result"
    }
   ],
   "source": [
    "x = pd.DataFrame(np.vstack((s, t))).T\n",
    "x = x.rename(columns={0:'acc',1:'factor'}).set_index('factor')\n",
    "x"
   ]
  },
  {
   "cell_type": "code",
   "execution_count": 199,
   "metadata": {},
   "outputs": [
    {
     "ename": "KeyError",
     "evalue": "'6'",
     "output_type": "error",
     "traceback": [
      "\u001b[0;31m---------------------------------------------------------------------------\u001b[0m",
      "\u001b[0;31mKeyError\u001b[0m                                  Traceback (most recent call last)",
      "\u001b[0;32m<timed exec>\u001b[0m in \u001b[0;36m<module>\u001b[0;34m\u001b[0m\n",
      "\u001b[0;31mKeyError\u001b[0m: '6'"
     ]
    }
   ],
   "source": [
    "%%time\n",
    "res = []\n",
    "for index, row in sub_data.iterrows():\n",
    "    acc_value = x.loc[index].values[0]\n",
    "    if int(acc_value) > 1:\n",
    "        new_row = accumulators[acc_value](row)"
   ]
  },
  {
   "cell_type": "code",
   "execution_count": 200,
   "metadata": {},
   "outputs": [
    {
     "data": {
      "text/plain": [
       "<function __main__.sigmoid(x)>"
      ]
     },
     "execution_count": 200,
     "metadata": {},
     "output_type": "execute_result"
    }
   ],
   "source": [
    "accumulators[6]"
   ]
  },
  {
   "cell_type": "code",
   "execution_count": null,
   "metadata": {},
   "outputs": [],
   "source": []
  }
 ],
 "metadata": {
  "kernelspec": {
   "display_name": "Python 3",
   "language": "python",
   "name": "python3"
  },
  "language_info": {
   "codemirror_mode": {
    "name": "ipython",
    "version": 3
   },
   "file_extension": ".py",
   "mimetype": "text/x-python",
   "name": "python",
   "nbconvert_exporter": "python",
   "pygments_lexer": "ipython3",
   "version": "3.6.7"
  }
 },
 "nbformat": 4,
 "nbformat_minor": 2
}
