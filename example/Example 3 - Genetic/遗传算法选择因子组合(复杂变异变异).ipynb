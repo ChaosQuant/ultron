{
 "cells": [
  {
   "cell_type": "code",
   "execution_count": 33,
   "metadata": {},
   "outputs": [],
   "source": [
    "import pandas as pd\n",
    "import numpy as np\n",
    "from PyFin.api import *\n",
    "import pickle\n",
    "import itertools\n",
    "import sys\n",
    "from variation import GeneticMutationFactors\n",
    "sys.path.append('../..')\n",
    "from ultron.factor.combine.combine_engine import CombineEngine"
   ]
  },
  {
   "cell_type": "code",
   "execution_count": 34,
   "metadata": {},
   "outputs": [],
   "source": [
    "mutation_factors = GeneticMutationFactors(0.2, 0.4, 0.7, 10, 20)"
   ]
  },
  {
   "cell_type": "code",
   "execution_count": 35,
   "metadata": {},
   "outputs": [],
   "source": [
    "with open('factor_data.pkl','rb') as file2:\n",
    "    total_data = pickle.load(file2)"
   ]
  },
  {
   "cell_type": "code",
   "execution_count": 4,
   "metadata": {},
   "outputs": [],
   "source": [
    "factor_columns = [i for i in list(set(total_data.columns)) if i not in ['trade_date','code','ret']]\n",
    "diff_filed = ['trade_date','code','ret']"
   ]
  },
  {
   "cell_type": "code",
   "execution_count": 5,
   "metadata": {},
   "outputs": [],
   "source": [
    "## 可采用其他方式来进行初步分群, 目前采用随机\n",
    "point = int(np.random.uniform(0, len(factor_columns))/2)\n",
    "ori_field = factor_columns[:point]\n",
    "add_field = factor_columns[point:]"
   ]
  },
  {
   "cell_type": "code",
   "execution_count": 7,
   "metadata": {
    "scrolled": true
   },
   "outputs": [
    {
     "name": "stdout",
     "output_type": "stream",
     "text": [
      "0\n"
     ]
    },
    {
     "name": "stderr",
     "output_type": "stream",
     "text": [
      "/home/kerry/work/pj/ultron/example/Example 3 - Genetic/variation.py:9: RuntimeWarning: overflow encountered in exp\n",
      "  s = 1 / (1 + np.exp(-x))\n",
      "/home/kerry/work/pj/ultron/example/Example 3 - Genetic/variation.py:81: RuntimeWarning: invalid value encountered in log\n",
      "  factor_data = func(factor_data)\n",
      "/home/kerry/work/pj/ultron/example/Example 3 - Genetic/variation.py:13: RuntimeWarning: overflow encountered in exp\n",
      "  s1 = np.exp(x) - np.exp(-x)\n",
      "/home/kerry/work/pj/ultron/example/Example 3 - Genetic/variation.py:14: RuntimeWarning: overflow encountered in exp\n",
      "  s2 = np.exp(x) + np.exp(-x)\n",
      "/home/kerry/work/pj/ultron/example/Example 3 - Genetic/variation.py:81: RuntimeWarning: invalid value encountered in sqrt\n",
      "  factor_data = func(factor_data)\n",
      "/home/kerry/work/pj/ultron/example/Example 3 - Genetic/variation.py:81: RuntimeWarning: divide by zero encountered in log\n",
      "  factor_data = func(factor_data)\n"
     ]
    },
    {
     "name": "stdout",
     "output_type": "stream",
     "text": [
      "1\n",
      "2\n",
      "> /home/kerry/work/pj/ultron/example/Example 3 - Genetic/variation.py(151)genetic_run()\n",
      "-> return best_code, best_field\n",
      "(Pdb) c\n"
     ]
    },
    {
     "data": {
      "text/plain": [
       "(134, array(['alpha_170c_1c_1c_1', 'alpha_94c_1c_1c_1'], dtype=object))"
      ]
     },
     "execution_count": 7,
     "metadata": {},
     "output_type": "execute_result"
    }
   ],
   "source": [
    "mutation_factors.genetic_run(total_data, diff_filed = diff_filed, strong_field = ori_field, \n",
    "                             weak_field = add_field)"
   ]
  },
  {
   "cell_type": "code",
   "execution_count": null,
   "metadata": {},
   "outputs": [],
   "source": []
  }
 ],
 "metadata": {
  "kernelspec": {
   "display_name": "Python 3",
   "language": "python",
   "name": "python3"
  },
  "language_info": {
   "codemirror_mode": {
    "name": "ipython",
    "version": 3
   },
   "file_extension": ".py",
   "mimetype": "text/x-python",
   "name": "python",
   "nbconvert_exporter": "python",
   "pygments_lexer": "ipython3",
   "version": "3.6.7"
  }
 },
 "nbformat": 4,
 "nbformat_minor": 2
}
