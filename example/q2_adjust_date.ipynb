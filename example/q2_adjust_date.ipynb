{
 "cells": [
  {
   "cell_type": "code",
   "execution_count": 1,
   "metadata": {},
   "outputs": [],
   "source": [
    "import pdb\n",
    "import sys\n",
    "import datetime\n",
    "sys.path.append('..')\n",
    "from ultron.factor.engine.adjust_date import AdjustTradeDate"
   ]
  },
  {
   "cell_type": "markdown",
   "metadata": {},
   "source": [
    "### 功能目前要依赖于优矿信息，故需要优矿账号"
   ]
  },
  {
   "cell_type": "code",
   "execution_count": 5,
   "metadata": {},
   "outputs": [
    {
     "name": "stdout",
     "output_type": "stream",
     "text": [
      "<class 'list'>\n",
      "512647@wmcloud.com 账号登录成功\n"
     ]
    }
   ],
   "source": [
    "#is_uqer控制避免重复初始化 0:表示上下文环境未初始化uqer 1:表示上下文环境已初始化uqer\n",
    "adjust_date = AdjustTradeDate(uqer_token='',\n",
    "                              is_uqer=0)"
   ]
  },
  {
   "cell_type": "markdown",
   "metadata": {},
   "source": [
    "### 获取周，月，季度 最后一个交易日 isWeekEnd isMonthEnd isQuarterEnd isYearEnd"
   ]
  },
  {
   "cell_type": "code",
   "execution_count": 6,
   "metadata": {},
   "outputs": [],
   "source": [
    "trade_date = adjust_date.custom_fetch_end(datetime.datetime(2016,1,1), datetime.datetime(2019,1,1),'isWeekEnd')"
   ]
  },
  {
   "cell_type": "markdown",
   "metadata": {},
   "source": [
    "## 指定固定间隔日"
   ]
  },
  {
   "cell_type": "code",
   "execution_count": 9,
   "metadata": {},
   "outputs": [],
   "source": [
    "trade_date = adjust_date.custom_fetch_date(datetime.datetime(2016,1,1), datetime.datetime(2019,1,1),10)"
   ]
  },
  {
   "cell_type": "code",
   "execution_count": null,
   "metadata": {},
   "outputs": [],
   "source": []
  }
 ],
 "metadata": {
  "kernelspec": {
   "display_name": "Python 3",
   "language": "python",
   "name": "python3"
  },
  "language_info": {
   "codemirror_mode": {
    "name": "ipython",
    "version": 3
   },
   "file_extension": ".py",
   "mimetype": "text/x-python",
   "name": "python",
   "nbconvert_exporter": "python",
   "pygments_lexer": "ipython3",
   "version": "3.6.7"
  }
 },
 "nbformat": 4,
 "nbformat_minor": 2
}
