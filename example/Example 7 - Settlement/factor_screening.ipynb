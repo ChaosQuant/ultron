{
 "cells": [
  {
   "cell_type": "code",
   "execution_count": 1,
   "metadata": {},
   "outputs": [
    {
     "name": "stdout",
     "output_type": "stream",
     "text": [
      "Populating the interactive namespace from numpy and matplotlib\n"
     ]
    }
   ],
   "source": [
    "%pylab inline\n",
    "%load_ext autoreload\n",
    "%autoreload 2\n"
   ]
  },
  {
   "cell_type": "code",
   "execution_count": 2,
   "metadata": {},
   "outputs": [],
   "source": [
    "import pickle,itertools,sys,pdb\n",
    "import numpy as np\n",
    "import pandas as pd\n",
    "from ultron.factor.settlement.weighted import Weighted"
   ]
  },
  {
   "cell_type": "code",
   "execution_count": 3,
   "metadata": {},
   "outputs": [],
   "source": [
    "# 读取数据\n",
    "with open('total_data.pkl','rb') as file2:\n",
    "    total_data = pickle.load(file2)\n",
    "    \n",
    "weight = Weighted()\n",
    "\n",
    "industry_styles = ['Bank','RealEstate','Health','Transportation','Mining',\n",
    "                                 'NonFerMetal','HouseApp','LeiService','MachiEquip','BuildDeco',\n",
    "                                 'CommeTrade','CONMAT','Auto','Textile','FoodBever','Electronics',\n",
    "                                 'Computer','LightIndus','Utilities','Telecom','AgriForest','CHEM',\n",
    "                                 'Media','IronSteel','NonBankFinan','ELECEQP','AERODEF','Conglomerates']\n",
    "\n",
    "# risk_data = total_data[['code','trade_date'] + industry_styles + ['SIZE','COUNTRY']]\n",
    "\n",
    "risk_data = total_data[['code','trade_date'] + industry_styles + ['SIZE']]\n",
    "\n",
    "forward_returns  = total_data[['code','trade_date', 'ret']]\n",
    "\n",
    "factor_data = total_data[['code','trade_date','CFinc1','ivr_day','roe_q','idl_mtm_20']]\n"
   ]
  },
  {
   "cell_type": "code",
   "execution_count": 4,
   "metadata": {},
   "outputs": [
    {
     "name": "stderr",
     "output_type": "stream",
     "text": [
      "C:\\Users\\Jeffery\\AppData\\Roaming\\Python\\Python37\\site-packages\\ultron-0.1.6-py3.7-win-amd64.egg\\ultron\\factor\\settlement\\weighted.py:49: FutureWarning: `rcond` parameter will change to the default of machine precision times ``max(M, N)`` where M and N are the input matrix dimensions.\n",
      "To use the future default and silence this warning we advise to pass `rcond=None`, to keep using the old, explicitly pass `rcond=-1`.\n",
      "  x = np.linalg.lstsq(risk.values, np.matrix(se).T)[0]\n"
     ]
    }
   ],
   "source": [
    "fac_list = ['CFinc1','ivr_day','roe_q','idl_mtm_20']\n",
    "res_list = []\n",
    "\n",
    "for fac in fac_list:\n",
    "    stats = weight.run(factor_data, risk_data, forward_returns, fac)\n",
    "    stats['factor_name'] = fac\n",
    "    res_list.append(stats)\n",
    "\n",
    "fac_results = pd.DataFrame(res_list)\n",
    "fac_results = fac_results.loc[:, ['factor_name', 'returns', 'ir', 'sharpe', 'fitness', 'turnover', 'margin', 'max_drawdown']]\n"
   ]
  },
  {
   "cell_type": "code",
   "execution_count": 5,
   "metadata": {},
   "outputs": [
    {
     "data": {
      "text/html": [
       "<div>\n",
       "<style scoped>\n",
       "    .dataframe tbody tr th:only-of-type {\n",
       "        vertical-align: middle;\n",
       "    }\n",
       "\n",
       "    .dataframe tbody tr th {\n",
       "        vertical-align: top;\n",
       "    }\n",
       "\n",
       "    .dataframe thead th {\n",
       "        text-align: right;\n",
       "    }\n",
       "</style>\n",
       "<table border=\"1\" class=\"dataframe\">\n",
       "  <thead>\n",
       "    <tr style=\"text-align: right;\">\n",
       "      <th></th>\n",
       "      <th>factor_name</th>\n",
       "      <th>returns</th>\n",
       "      <th>ir</th>\n",
       "      <th>sharpe</th>\n",
       "      <th>fitness</th>\n",
       "      <th>turnover</th>\n",
       "      <th>margin</th>\n",
       "      <th>max_drawdown</th>\n",
       "    </tr>\n",
       "  </thead>\n",
       "  <tbody>\n",
       "    <tr>\n",
       "      <th>0</th>\n",
       "      <td>CFinc1</td>\n",
       "      <td>0.139525</td>\n",
       "      <td>0.171105</td>\n",
       "      <td>2.716207</td>\n",
       "      <td>6.339172</td>\n",
       "      <td>0.025616</td>\n",
       "      <td>0.000475</td>\n",
       "      <td>-0.035616</td>\n",
       "    </tr>\n",
       "    <tr>\n",
       "      <th>1</th>\n",
       "      <td>ivr_day</td>\n",
       "      <td>0.758774</td>\n",
       "      <td>0.743571</td>\n",
       "      <td>11.803826</td>\n",
       "      <td>63.187056</td>\n",
       "      <td>0.026479</td>\n",
       "      <td>0.002510</td>\n",
       "      <td>-0.038167</td>\n",
       "    </tr>\n",
       "    <tr>\n",
       "      <th>2</th>\n",
       "      <td>roe_q</td>\n",
       "      <td>0.308079</td>\n",
       "      <td>0.242628</td>\n",
       "      <td>3.851600</td>\n",
       "      <td>12.602672</td>\n",
       "      <td>0.028775</td>\n",
       "      <td>0.000948</td>\n",
       "      <td>-0.055743</td>\n",
       "    </tr>\n",
       "    <tr>\n",
       "      <th>3</th>\n",
       "      <td>idl_mtm_20</td>\n",
       "      <td>-1.016704</td>\n",
       "      <td>-0.799170</td>\n",
       "      <td>-12.686430</td>\n",
       "      <td>-75.324686</td>\n",
       "      <td>0.028840</td>\n",
       "      <td>-0.003076</td>\n",
       "      <td>-0.053449</td>\n",
       "    </tr>\n",
       "  </tbody>\n",
       "</table>\n",
       "</div>"
      ],
      "text/plain": [
       "  factor_name   returns        ir     sharpe    fitness  turnover    margin  \\\n",
       "0      CFinc1  0.139525  0.171105   2.716207   6.339172  0.025616  0.000475   \n",
       "1     ivr_day  0.758774  0.743571  11.803826  63.187056  0.026479  0.002510   \n",
       "2       roe_q  0.308079  0.242628   3.851600  12.602672  0.028775  0.000948   \n",
       "3  idl_mtm_20 -1.016704 -0.799170 -12.686430 -75.324686  0.028840 -0.003076   \n",
       "\n",
       "   max_drawdown  \n",
       "0     -0.035616  \n",
       "1     -0.038167  \n",
       "2     -0.055743  \n",
       "3     -0.053449  "
      ]
     },
     "execution_count": 5,
     "metadata": {},
     "output_type": "execute_result"
    }
   ],
   "source": [
    "fac_results"
   ]
  },
  {
   "cell_type": "code",
   "execution_count": null,
   "metadata": {},
   "outputs": [],
   "source": []
  }
 ],
 "metadata": {
  "kernelspec": {
   "display_name": "Python 3",
   "language": "python",
   "name": "python3"
  },
  "language_info": {
   "codemirror_mode": {
    "name": "ipython",
    "version": 3
   },
   "file_extension": ".py",
   "mimetype": "text/x-python",
   "name": "python",
   "nbconvert_exporter": "python",
   "pygments_lexer": "ipython3",
   "version": "3.7.1"
  }
 },
 "nbformat": 4,
 "nbformat_minor": 2
}
