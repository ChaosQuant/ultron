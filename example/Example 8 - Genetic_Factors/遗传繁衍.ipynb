{
 "cells": [
  {
   "cell_type": "code",
   "execution_count": 1,
   "metadata": {},
   "outputs": [],
   "source": [
    "import pickle,itertools,sys,pdb\n",
    "from mpl_toolkits.mplot3d import Axes3D\n",
    "import matplotlib.pyplot as plt\n",
    "import graphviz\n",
    "from ultron.factor.genetic.geneticist.genetic import Gentic"
   ]
  },
  {
   "cell_type": "code",
   "execution_count": 2,
   "metadata": {},
   "outputs": [],
   "source": [
    "gentic = Gentic()"
   ]
  },
  {
   "cell_type": "code",
   "execution_count": 3,
   "metadata": {
    "scrolled": false
   },
   "outputs": [
    {
     "name": "stdout",
     "output_type": "stream",
     "text": [
      "> /home/kerry/work/workenv/alpha_mind/lib/python3.6/site-packages/ultron-0.1.8-py3.6-linux-x86_64.egg/ultron/factor/genetic/geneticist/genetic.py(110)train()\n",
      "-> for gen in range(prior_generations, self._generations):\n",
      "(Pdb) n\n",
      "> /home/kerry/work/workenv/alpha_mind/lib/python3.6/site-packages/ultron-0.1.8-py3.6-linux-x86_64.egg/ultron/factor/genetic/geneticist/genetic.py(111)train()\n",
      "-> start_time = time.time()\n",
      "(Pdb) \n",
      "> /home/kerry/work/workenv/alpha_mind/lib/python3.6/site-packages/ultron-0.1.8-py3.6-linux-x86_64.egg/ultron/factor/genetic/geneticist/genetic.py(112)train()\n",
      "-> if gen == 0:\n",
      "(Pdb) \n",
      "> /home/kerry/work/workenv/alpha_mind/lib/python3.6/site-packages/ultron-0.1.8-py3.6-linux-x86_64.egg/ultron/factor/genetic/geneticist/genetic.py(113)train()\n",
      "-> parents = None\n",
      "(Pdb) \n",
      "> /home/kerry/work/workenv/alpha_mind/lib/python3.6/site-packages/ultron-0.1.8-py3.6-linux-x86_64.egg/ultron/factor/genetic/geneticist/genetic.py(117)train()\n",
      "-> n_jobs, n_programs, starts = partition_estimators(\n",
      "(Pdb) \n",
      "> /home/kerry/work/workenv/alpha_mind/lib/python3.6/site-packages/ultron-0.1.8-py3.6-linux-x86_64.egg/ultron/factor/genetic/geneticist/genetic.py(118)train()\n",
      "-> self._population_size, self._n_jobs)\n",
      "(Pdb) \n",
      "> /home/kerry/work/workenv/alpha_mind/lib/python3.6/site-packages/ultron-0.1.8-py3.6-linux-x86_64.egg/ultron/factor/genetic/geneticist/genetic.py(120)train()\n",
      "-> seeds = random_state.randint(MAX_INT, size=self._population_size)\n",
      "(Pdb) n\n",
      "> /home/kerry/work/workenv/alpha_mind/lib/python3.6/site-packages/ultron-0.1.8-py3.6-linux-x86_64.egg/ultron/factor/genetic/geneticist/genetic.py(121)train()\n",
      "-> for i in range(n_jobs):\n",
      "(Pdb) n\n",
      "> /home/kerry/work/workenv/alpha_mind/lib/python3.6/site-packages/ultron-0.1.8-py3.6-linux-x86_64.egg/ultron/factor/genetic/geneticist/genetic.py(122)train()\n",
      "-> parallel_evolve(n_programs[i], parents, seeds[starts[i]:starts[i + 1]], params)\n",
      "(Pdb) s\n",
      "--Call--\n",
      "> /home/kerry/work/workenv/alpha_mind/lib/python3.6/site-packages/ultron-0.1.8-py3.6-linux-x86_64.egg/ultron/factor/genetic/geneticist/genetic.py(12)parallel_evolve()\n",
      "-> def parallel_evolve(n_programs, parents, seeds, params):\n",
      "(Pdb) n\n",
      "> /home/kerry/work/workenv/alpha_mind/lib/python3.6/site-packages/ultron-0.1.8-py3.6-linux-x86_64.egg/ultron/factor/genetic/geneticist/genetic.py(13)parallel_evolve()\n",
      "-> pdb.set_trace()\n",
      "(Pdb) n\n",
      "> /home/kerry/work/workenv/alpha_mind/lib/python3.6/site-packages/ultron-0.1.8-py3.6-linux-x86_64.egg/ultron/factor/genetic/geneticist/genetic.py(14)parallel_evolve()\n",
      "-> tournament_size = params['tournament_size']\n",
      "(Pdb) n\n",
      "> /home/kerry/work/workenv/alpha_mind/lib/python3.6/site-packages/ultron-0.1.8-py3.6-linux-x86_64.egg/ultron/factor/genetic/geneticist/genetic.py(15)parallel_evolve()\n",
      "-> function_set = params['function_set']\n",
      "(Pdb) n\n",
      "> /home/kerry/work/workenv/alpha_mind/lib/python3.6/site-packages/ultron-0.1.8-py3.6-linux-x86_64.egg/ultron/factor/genetic/geneticist/genetic.py(16)parallel_evolve()\n",
      "-> init_depth = params['init_depth']\n",
      "(Pdb) n\n",
      "> /home/kerry/work/workenv/alpha_mind/lib/python3.6/site-packages/ultron-0.1.8-py3.6-linux-x86_64.egg/ultron/factor/genetic/geneticist/genetic.py(17)parallel_evolve()\n",
      "-> init_method = params['init_method']\n",
      "(Pdb) n\n",
      "> /home/kerry/work/workenv/alpha_mind/lib/python3.6/site-packages/ultron-0.1.8-py3.6-linux-x86_64.egg/ultron/factor/genetic/geneticist/genetic.py(18)parallel_evolve()\n",
      "-> method_probs = params['method_probs']\n",
      "(Pdb) n\n",
      "> /home/kerry/work/workenv/alpha_mind/lib/python3.6/site-packages/ultron-0.1.8-py3.6-linux-x86_64.egg/ultron/factor/genetic/geneticist/genetic.py(19)parallel_evolve()\n",
      "-> p_point_replace = params['p_point_replace']\n",
      "(Pdb) n\n",
      "> /home/kerry/work/workenv/alpha_mind/lib/python3.6/site-packages/ultron-0.1.8-py3.6-linux-x86_64.egg/ultron/factor/genetic/geneticist/genetic.py(21)parallel_evolve()\n",
      "-> def _tournament():\n",
      "(Pdb) n\n",
      "> /home/kerry/work/workenv/alpha_mind/lib/python3.6/site-packages/ultron-0.1.8-py3.6-linux-x86_64.egg/ultron/factor/genetic/geneticist/genetic.py(31)parallel_evolve()\n",
      "-> programs = []\n",
      "(Pdb) n\n",
      "> /home/kerry/work/workenv/alpha_mind/lib/python3.6/site-packages/ultron-0.1.8-py3.6-linux-x86_64.egg/ultron/factor/genetic/geneticist/genetic.py(32)parallel_evolve()\n",
      "-> for i in range(n_programs):\n",
      "(Pdb) n_programs\n",
      "2000\n",
      "(Pdb) n\n",
      "> /home/kerry/work/workenv/alpha_mind/lib/python3.6/site-packages/ultron-0.1.8-py3.6-linux-x86_64.egg/ultron/factor/genetic/geneticist/genetic.py(33)parallel_evolve()\n",
      "-> random_state = check_random_state(seeds[i])\n",
      "(Pdb) n\n",
      "> /home/kerry/work/workenv/alpha_mind/lib/python3.6/site-packages/ultron-0.1.8-py3.6-linux-x86_64.egg/ultron/factor/genetic/geneticist/genetic.py(34)parallel_evolve()\n",
      "-> if parents is None:\n",
      "(Pdb) n\n",
      "> /home/kerry/work/workenv/alpha_mind/lib/python3.6/site-packages/ultron-0.1.8-py3.6-linux-x86_64.egg/ultron/factor/genetic/geneticist/genetic.py(35)parallel_evolve()\n",
      "-> program = None\n",
      "(Pdb) n\n",
      "> /home/kerry/work/workenv/alpha_mind/lib/python3.6/site-packages/ultron-0.1.8-py3.6-linux-x86_64.egg/ultron/factor/genetic/geneticist/genetic.py(36)parallel_evolve()\n",
      "-> genome = None\n",
      "(Pdb) n\n",
      "> /home/kerry/work/workenv/alpha_mind/lib/python3.6/site-packages/ultron-0.1.8-py3.6-linux-x86_64.egg/ultron/factor/genetic/geneticist/genetic.py(32)parallel_evolve()\n",
      "-> for i in range(n_programs):\n",
      "(Pdb) n\n",
      "> /home/kerry/work/workenv/alpha_mind/lib/python3.6/site-packages/ultron-0.1.8-py3.6-linux-x86_64.egg/ultron/factor/genetic/geneticist/genetic.py(33)parallel_evolve()\n",
      "-> random_state = check_random_state(seeds[i])\n",
      "(Pdb) q\n"
     ]
    },
    {
     "ename": "BdbQuit",
     "evalue": "",
     "output_type": "error",
     "traceback": [
      "\u001b[0;31m---------------------------------------------------------------------------\u001b[0m",
      "\u001b[0;31mBdbQuit\u001b[0m                                   Traceback (most recent call last)",
      "\u001b[0;32m<ipython-input-3-5dc39a055e94>\u001b[0m in \u001b[0;36m<module>\u001b[0;34m\u001b[0m\n\u001b[0;32m----> 1\u001b[0;31m \u001b[0mgentic\u001b[0m\u001b[0;34m.\u001b[0m\u001b[0mtrain\u001b[0m\u001b[0;34m(\u001b[0m\u001b[0;34m)\u001b[0m\u001b[0;34m\u001b[0m\u001b[0;34m\u001b[0m\u001b[0m\n\u001b[0m",
      "\u001b[0;32m~/work/workenv/alpha_mind/lib/python3.6/site-packages/ultron-0.1.8-py3.6-linux-x86_64.egg/ultron/factor/genetic/geneticist/genetic.py\u001b[0m in \u001b[0;36mtrain\u001b[0;34m(self)\u001b[0m\n\u001b[1;32m    120\u001b[0m             \u001b[0mseeds\u001b[0m \u001b[0;34m=\u001b[0m \u001b[0mrandom_state\u001b[0m\u001b[0;34m.\u001b[0m\u001b[0mrandint\u001b[0m\u001b[0;34m(\u001b[0m\u001b[0mMAX_INT\u001b[0m\u001b[0;34m,\u001b[0m \u001b[0msize\u001b[0m\u001b[0;34m=\u001b[0m\u001b[0mself\u001b[0m\u001b[0;34m.\u001b[0m\u001b[0m_population_size\u001b[0m\u001b[0;34m)\u001b[0m\u001b[0;34m\u001b[0m\u001b[0;34m\u001b[0m\u001b[0m\n\u001b[1;32m    121\u001b[0m             \u001b[0;32mfor\u001b[0m \u001b[0mi\u001b[0m \u001b[0;32min\u001b[0m \u001b[0mrange\u001b[0m\u001b[0;34m(\u001b[0m\u001b[0mn_jobs\u001b[0m\u001b[0;34m)\u001b[0m\u001b[0;34m:\u001b[0m\u001b[0;34m\u001b[0m\u001b[0;34m\u001b[0m\u001b[0m\n\u001b[0;32m--> 122\u001b[0;31m                 \u001b[0mparallel_evolve\u001b[0m\u001b[0;34m(\u001b[0m\u001b[0mn_programs\u001b[0m\u001b[0;34m[\u001b[0m\u001b[0mi\u001b[0m\u001b[0;34m]\u001b[0m\u001b[0;34m,\u001b[0m \u001b[0mparents\u001b[0m\u001b[0;34m,\u001b[0m \u001b[0mseeds\u001b[0m\u001b[0;34m[\u001b[0m\u001b[0mstarts\u001b[0m\u001b[0;34m[\u001b[0m\u001b[0mi\u001b[0m\u001b[0;34m]\u001b[0m\u001b[0;34m:\u001b[0m\u001b[0mstarts\u001b[0m\u001b[0;34m[\u001b[0m\u001b[0mi\u001b[0m \u001b[0;34m+\u001b[0m \u001b[0;36m1\u001b[0m\u001b[0;34m]\u001b[0m\u001b[0;34m]\u001b[0m\u001b[0;34m,\u001b[0m \u001b[0mparams\u001b[0m\u001b[0;34m)\u001b[0m\u001b[0;34m\u001b[0m\u001b[0;34m\u001b[0m\u001b[0m\n\u001b[0m\u001b[1;32m    123\u001b[0m \u001b[0;34m\u001b[0m\u001b[0m\n",
      "\u001b[0;32m~/work/workenv/alpha_mind/lib/python3.6/site-packages/ultron-0.1.8-py3.6-linux-x86_64.egg/ultron/factor/genetic/geneticist/genetic.py\u001b[0m in \u001b[0;36mparallel_evolve\u001b[0;34m(n_programs, parents, seeds, params)\u001b[0m\n\u001b[1;32m     31\u001b[0m     \u001b[0mprograms\u001b[0m \u001b[0;34m=\u001b[0m \u001b[0;34m[\u001b[0m\u001b[0;34m]\u001b[0m\u001b[0;34m\u001b[0m\u001b[0;34m\u001b[0m\u001b[0m\n\u001b[1;32m     32\u001b[0m     \u001b[0;32mfor\u001b[0m \u001b[0mi\u001b[0m \u001b[0;32min\u001b[0m \u001b[0mrange\u001b[0m\u001b[0;34m(\u001b[0m\u001b[0mn_programs\u001b[0m\u001b[0;34m)\u001b[0m\u001b[0;34m:\u001b[0m\u001b[0;34m\u001b[0m\u001b[0;34m\u001b[0m\u001b[0m\n\u001b[0;32m---> 33\u001b[0;31m         \u001b[0mrandom_state\u001b[0m \u001b[0;34m=\u001b[0m \u001b[0mcheck_random_state\u001b[0m\u001b[0;34m(\u001b[0m\u001b[0mseeds\u001b[0m\u001b[0;34m[\u001b[0m\u001b[0mi\u001b[0m\u001b[0;34m]\u001b[0m\u001b[0;34m)\u001b[0m\u001b[0;34m\u001b[0m\u001b[0;34m\u001b[0m\u001b[0m\n\u001b[0m\u001b[1;32m     34\u001b[0m         \u001b[0;32mif\u001b[0m \u001b[0mparents\u001b[0m \u001b[0;32mis\u001b[0m \u001b[0;32mNone\u001b[0m\u001b[0;34m:\u001b[0m\u001b[0;34m\u001b[0m\u001b[0;34m\u001b[0m\u001b[0m\n\u001b[1;32m     35\u001b[0m             \u001b[0mprogram\u001b[0m \u001b[0;34m=\u001b[0m \u001b[0;32mNone\u001b[0m\u001b[0;34m\u001b[0m\u001b[0;34m\u001b[0m\u001b[0m\n",
      "\u001b[0;32m~/work/workenv/alpha_mind/lib/python3.6/site-packages/ultron-0.1.8-py3.6-linux-x86_64.egg/ultron/factor/genetic/geneticist/genetic.py\u001b[0m in \u001b[0;36mparallel_evolve\u001b[0;34m(n_programs, parents, seeds, params)\u001b[0m\n\u001b[1;32m     31\u001b[0m     \u001b[0mprograms\u001b[0m \u001b[0;34m=\u001b[0m \u001b[0;34m[\u001b[0m\u001b[0;34m]\u001b[0m\u001b[0;34m\u001b[0m\u001b[0;34m\u001b[0m\u001b[0m\n\u001b[1;32m     32\u001b[0m     \u001b[0;32mfor\u001b[0m \u001b[0mi\u001b[0m \u001b[0;32min\u001b[0m \u001b[0mrange\u001b[0m\u001b[0;34m(\u001b[0m\u001b[0mn_programs\u001b[0m\u001b[0;34m)\u001b[0m\u001b[0;34m:\u001b[0m\u001b[0;34m\u001b[0m\u001b[0;34m\u001b[0m\u001b[0m\n\u001b[0;32m---> 33\u001b[0;31m         \u001b[0mrandom_state\u001b[0m \u001b[0;34m=\u001b[0m \u001b[0mcheck_random_state\u001b[0m\u001b[0;34m(\u001b[0m\u001b[0mseeds\u001b[0m\u001b[0;34m[\u001b[0m\u001b[0mi\u001b[0m\u001b[0;34m]\u001b[0m\u001b[0;34m)\u001b[0m\u001b[0;34m\u001b[0m\u001b[0;34m\u001b[0m\u001b[0m\n\u001b[0m\u001b[1;32m     34\u001b[0m         \u001b[0;32mif\u001b[0m \u001b[0mparents\u001b[0m \u001b[0;32mis\u001b[0m \u001b[0;32mNone\u001b[0m\u001b[0;34m:\u001b[0m\u001b[0;34m\u001b[0m\u001b[0;34m\u001b[0m\u001b[0m\n\u001b[1;32m     35\u001b[0m             \u001b[0mprogram\u001b[0m \u001b[0;34m=\u001b[0m \u001b[0;32mNone\u001b[0m\u001b[0;34m\u001b[0m\u001b[0;34m\u001b[0m\u001b[0m\n",
      "\u001b[0;32m/usr/lib/python3.6/bdb.py\u001b[0m in \u001b[0;36mtrace_dispatch\u001b[0;34m(self, frame, event, arg)\u001b[0m\n\u001b[1;32m     49\u001b[0m             \u001b[0;32mreturn\u001b[0m \u001b[0;31m# None\u001b[0m\u001b[0;34m\u001b[0m\u001b[0;34m\u001b[0m\u001b[0m\n\u001b[1;32m     50\u001b[0m         \u001b[0;32mif\u001b[0m \u001b[0mevent\u001b[0m \u001b[0;34m==\u001b[0m \u001b[0;34m'line'\u001b[0m\u001b[0;34m:\u001b[0m\u001b[0;34m\u001b[0m\u001b[0;34m\u001b[0m\u001b[0m\n\u001b[0;32m---> 51\u001b[0;31m             \u001b[0;32mreturn\u001b[0m \u001b[0mself\u001b[0m\u001b[0;34m.\u001b[0m\u001b[0mdispatch_line\u001b[0m\u001b[0;34m(\u001b[0m\u001b[0mframe\u001b[0m\u001b[0;34m)\u001b[0m\u001b[0;34m\u001b[0m\u001b[0;34m\u001b[0m\u001b[0m\n\u001b[0m\u001b[1;32m     52\u001b[0m         \u001b[0;32mif\u001b[0m \u001b[0mevent\u001b[0m \u001b[0;34m==\u001b[0m \u001b[0;34m'call'\u001b[0m\u001b[0;34m:\u001b[0m\u001b[0;34m\u001b[0m\u001b[0;34m\u001b[0m\u001b[0m\n\u001b[1;32m     53\u001b[0m             \u001b[0;32mreturn\u001b[0m \u001b[0mself\u001b[0m\u001b[0;34m.\u001b[0m\u001b[0mdispatch_call\u001b[0m\u001b[0;34m(\u001b[0m\u001b[0mframe\u001b[0m\u001b[0;34m,\u001b[0m \u001b[0marg\u001b[0m\u001b[0;34m)\u001b[0m\u001b[0;34m\u001b[0m\u001b[0;34m\u001b[0m\u001b[0m\n",
      "\u001b[0;32m/usr/lib/python3.6/bdb.py\u001b[0m in \u001b[0;36mdispatch_line\u001b[0;34m(self, frame)\u001b[0m\n\u001b[1;32m     68\u001b[0m         \u001b[0;32mif\u001b[0m \u001b[0mself\u001b[0m\u001b[0;34m.\u001b[0m\u001b[0mstop_here\u001b[0m\u001b[0;34m(\u001b[0m\u001b[0mframe\u001b[0m\u001b[0;34m)\u001b[0m \u001b[0;32mor\u001b[0m \u001b[0mself\u001b[0m\u001b[0;34m.\u001b[0m\u001b[0mbreak_here\u001b[0m\u001b[0;34m(\u001b[0m\u001b[0mframe\u001b[0m\u001b[0;34m)\u001b[0m\u001b[0;34m:\u001b[0m\u001b[0;34m\u001b[0m\u001b[0;34m\u001b[0m\u001b[0m\n\u001b[1;32m     69\u001b[0m             \u001b[0mself\u001b[0m\u001b[0;34m.\u001b[0m\u001b[0muser_line\u001b[0m\u001b[0;34m(\u001b[0m\u001b[0mframe\u001b[0m\u001b[0;34m)\u001b[0m\u001b[0;34m\u001b[0m\u001b[0;34m\u001b[0m\u001b[0m\n\u001b[0;32m---> 70\u001b[0;31m             \u001b[0;32mif\u001b[0m \u001b[0mself\u001b[0m\u001b[0;34m.\u001b[0m\u001b[0mquitting\u001b[0m\u001b[0;34m:\u001b[0m \u001b[0;32mraise\u001b[0m \u001b[0mBdbQuit\u001b[0m\u001b[0;34m\u001b[0m\u001b[0;34m\u001b[0m\u001b[0m\n\u001b[0m\u001b[1;32m     71\u001b[0m         \u001b[0;32mreturn\u001b[0m \u001b[0mself\u001b[0m\u001b[0;34m.\u001b[0m\u001b[0mtrace_dispatch\u001b[0m\u001b[0;34m\u001b[0m\u001b[0;34m\u001b[0m\u001b[0m\n\u001b[1;32m     72\u001b[0m \u001b[0;34m\u001b[0m\u001b[0m\n",
      "\u001b[0;31mBdbQuit\u001b[0m: "
     ]
    }
   ],
   "source": []
  },
  {
   "cell_type": "code",
   "execution_count": null,
   "metadata": {},
   "outputs": [],
   "source": []
  }
 ],
 "metadata": {
  "kernelspec": {
   "display_name": "Python 3",
   "language": "python",
   "name": "python3"
  },
  "language_info": {
   "codemirror_mode": {
    "name": "ipython",
    "version": 3
   },
   "file_extension": ".py",
   "mimetype": "text/x-python",
   "name": "python",
   "nbconvert_exporter": "python",
   "pygments_lexer": "ipython3",
   "version": "3.6.7"
  }
 },
 "nbformat": 4,
 "nbformat_minor": 2
}
