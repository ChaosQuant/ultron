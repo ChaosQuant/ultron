{
 "cells": [
  {
   "cell_type": "code",
   "execution_count": 1,
   "metadata": {},
   "outputs": [],
   "source": [
    "import pdb\n",
    "import sys\n",
    "import datetime\n",
    "from model import Experimental\n",
    "sys.path.append('..')\n",
    "from ultron.factor.engine.raw_factors import RawFactors\n",
    "from ultron.factor.engine.adjust_date import AdjustTradeDate\n",
    "from ultron.factor.engine.stock_pool import StockPool"
   ]
  },
  {
   "cell_type": "markdown",
   "metadata": {},
   "source": [
    "## 获取调仓日"
   ]
  },
  {
   "cell_type": "code",
   "execution_count": 7,
   "metadata": {},
   "outputs": [
    {
     "name": "stdout",
     "output_type": "stream",
     "text": [
      "<class 'list'>\n",
      "512647@wmcloud.com 账号登录成功\n"
     ]
    }
   ],
   "source": [
    "adjust_date = AdjustTradeDate(uqer_token='',\n",
    "                              is_uqer=0)\n",
    "trade_date_list = adjust_date.custom_fetch_end(datetime.datetime(2018,6,1), \n",
    "                                               datetime.datetime(2018,12,31),'isWeekEnd')"
   ]
  },
  {
   "cell_type": "markdown",
   "metadata": {},
   "source": [
    "### 动态读取所有股票指定因子信息"
   ]
  },
  {
   "cell_type": "code",
   "execution_count": 8,
   "metadata": {},
   "outputs": [],
   "source": [
    "import sqlalchemy as sa\n",
    "#数据库地址\n",
    "db_info = \"\"\n",
    "#因子表结构 注必须是 sqlalchemy的Base结构\n",
    "table = Experimental\n",
    "# 股票代码列名\n",
    "code_name = 'code'\n",
    "# 交易日列名\n",
    "trade_date_name = 'trade_date'"
   ]
  },
  {
   "cell_type": "code",
   "execution_count": 9,
   "metadata": {
    "scrolled": false
   },
   "outputs": [
    {
     "name": "stdout",
     "output_type": "stream",
     "text": [
      "CPU times: user 342 ms, sys: 69.7 ms, total: 411 ms\n",
      "Wall time: 11.4 s\n"
     ]
    }
   ],
   "source": [
    "%%time\n",
    "raw_factor = RawFactors(db_info)\n",
    "factors_sets = raw_factor.on_work_by_interval(trade_date_list, table, \n",
    "                               code_name, trade_date_name, ['CFinc1','CHV','IVR'],\n",
    "                                             is_pool = False)"
   ]
  },
  {
   "cell_type": "markdown",
   "metadata": {},
   "source": [
    "## 获取股票池"
   ]
  },
  {
   "cell_type": "code",
   "execution_count": 10,
   "metadata": {},
   "outputs": [],
   "source": [
    "stock_pool = StockPool(uqer_token='',\n",
    "                       is_uqer=1)\n",
    "index = '000905.XSHG'"
   ]
  },
  {
   "cell_type": "code",
   "execution_count": 11,
   "metadata": {},
   "outputs": [
    {
     "name": "stdout",
     "output_type": "stream",
     "text": [
      "2018-06-01\n",
      "2018-06-08\n",
      "2018-06-15\n",
      "2018-06-22\n",
      "2018-06-29\n",
      "2018-07-06\n",
      "2018-07-13\n",
      "2018-07-20\n",
      "2018-07-27\n",
      "2018-08-03\n",
      "2018-08-10\n",
      "2018-08-17\n",
      "2018-08-24\n",
      "2018-08-31\n",
      "2018-09-07\n",
      "2018-09-14\n",
      "2018-09-21\n",
      "2018-09-28\n",
      "2018-10-12\n",
      "2018-10-19\n",
      "2018-10-26\n",
      "2018-11-02\n",
      "2018-11-09\n",
      "2018-11-16\n",
      "2018-11-23\n",
      "2018-11-30\n",
      "2018-12-07\n",
      "2018-12-14\n",
      "2018-12-21\n"
     ]
    }
   ],
   "source": [
    "stock_sets = stock_pool.on_work_by_interval(trade_date_list, 1, index)"
   ]
  },
  {
   "cell_type": "code",
   "execution_count": null,
   "metadata": {},
   "outputs": [],
   "source": []
  }
 ],
 "metadata": {
  "kernelspec": {
   "display_name": "Python 3",
   "language": "python",
   "name": "python3"
  },
  "language_info": {
   "codemirror_mode": {
    "name": "ipython",
    "version": 3
   },
   "file_extension": ".py",
   "mimetype": "text/x-python",
   "name": "python",
   "nbconvert_exporter": "python",
   "pygments_lexer": "ipython3",
   "version": "3.6.7"
  }
 },
 "nbformat": 4,
 "nbformat_minor": 2
}
